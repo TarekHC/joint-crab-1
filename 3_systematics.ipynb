{
 "cells": [
  {
   "cell_type": "markdown",
   "metadata": {},
   "source": [
    "# Joint spectrum fit with systematics\n",
    "\n",
    "In this notebook, we re-execute the joint spectrum fit including systematics\n",
    "on the per-instrument energy scales, as described in the paper and scripted\n",
    "in ``joint_crab/fit_systematics.py``. Please see the paper for a description\n",
    "of the likelihood function and parameters.\n",
    "\n",
    "First we illustrate the effect of the energy scale on the spectral model.\n",
    "After the fit, we show the parameter correlations, and we show a plot\n",
    "illustrating the energy scale shifts for each instrument."
   ]
  },
  {
   "cell_type": "code",
   "execution_count": 1,
   "metadata": {},
   "outputs": [],
   "source": [
    "%matplotlib inline\n",
    "import numpy as np\n",
    "import astropy.units as u\n",
    "import matplotlib.pyplot as plt\n",
    "from multinorm import MultiNorm\n",
    "\n",
    "from joint_crab.fit_models import Log10ParabolaEnergyScale\n",
    "from joint_crab.fit_systematics import SystematicsSpectrumFit"
   ]
  },
  {
   "cell_type": "markdown",
   "metadata": {},
   "source": [
    "## Energy scale shift\n",
    "\n",
    "Let us see how the log-parabolic spectrum is modified by an energy scale shift of $\\pm20\\%$.\n",
    "\n",
    "For negative energy scale factor `z` the spectrum is shifted to lower energies,\n",
    "for positive `z` to higher energies."
   ]
  },
  {
   "cell_type": "code",
   "execution_count": 2,
   "metadata": {},
   "outputs": [
    {
     "data": {
      "image/png": "[encoded data removed]",
      "text/plain": [
       "<matplotlib.figure.Figure at 0x1175fb128>"
      ]
     },
     "metadata": {
      "needs_background": "light"
     },
     "output_type": "display_data"
    }
   ],
   "source": [
    "for z in [-0.2, 0, +0.2]:\n",
    "    model = Log10ParabolaEnergyScale(z=z)\n",
    "    model.plot([0.01, 50] * u.TeV, energy_power=2, label=f\"z={z}\")\n",
    "\n",
    "plt.legend()\n",
    "plt.xlabel(\"E / TeV\")\n",
    "plt.ylabel(\n",
    "    r\"$E^2\\,d\\phi/dE\\,/\\,(\\mathrm{erg}\\,\\mathrm{cm}^{-2}\\,\\mathrm{s}^{-1})$\"\n",
    ")\n",
    "plt.grid()"
   ]
  },
  {
   "cell_type": "markdown",
   "metadata": {},
   "source": [
    "# Execute fit\n",
    "\n",
    "Let's run the fit.\n",
    "The ``delta`` values used are 15% for IACTs and 5% for Fermi-LAT."
   ]
  },
  {
   "cell_type": "code",
   "execution_count": 3,
   "metadata": {},
   "outputs": [
    {
     "data": {
      "text/plain": [
       "{'fermi': 0.05, 'magic': 0.15, 'hess': 0.15, 'veritas': 0.15, 'fact': 0.15}"
      ]
     },
     "execution_count": 3,
     "metadata": {},
     "output_type": "execute_result"
    }
   ],
   "source": [
    "SystematicsSpectrumFit.delta"
   ]
  },
  {
   "cell_type": "code",
   "execution_count": 4,
   "metadata": {},
   "outputs": [
    {
     "name": "stdout",
     "output_type": "stream",
     "text": [
      "CPU times: user 9.13 s, sys: 39.5 ms, total: 9.17 s\n",
      "Wall time: 9.19 s\n"
     ]
    }
   ],
   "source": [
    "%%time\n",
    "\n",
    "fit = SystematicsSpectrumFit()\n",
    "result = fit.run()"
   ]
  },
  {
   "cell_type": "markdown",
   "metadata": {},
   "source": [
    "## Fit results\n",
    "\n",
    "We use `MultiNorm` to have nice table representations of the values,\n",
    "errors and parameter correlation matrix."
   ]
  },
  {
   "cell_type": "code",
   "execution_count": 5,
   "metadata": {},
   "outputs": [
    {
     "data": {
      "text/plain": [
       "FitResult\n",
       "\n",
       "\tbackend    : minuit\n",
       "\tmethod     : minuit\n",
       "\tsuccess    : True\n",
       "\tnfev       : 594\n",
       "\ttotal stat : 441.23\n",
       "\tmessage    : Optimization terminated successfully."
      ]
     },
     "execution_count": 5,
     "metadata": {},
     "output_type": "execute_result"
    }
   ],
   "source": [
    "result"
   ]
  },
  {
   "cell_type": "code",
   "execution_count": 6,
   "metadata": {},
   "outputs": [],
   "source": [
    "t = result.model.parameters.to_table()\n",
    "multi_norm = MultiNorm(\n",
    "    mean=list(t[\"value\"]),\n",
    "    names=list(t[\"name\"]),\n",
    "    cov=result.model.parameters.covariance,\n",
    ").drop([\"reference\"])"
   ]
  },
  {
   "cell_type": "code",
   "execution_count": 7,
   "metadata": {},
   "outputs": [
    {
     "data": {
      "text/html": [
       "<div>\n",
       "<style scoped>\n",
       "    .dataframe tbody tr th:only-of-type {\n",
       "        vertical-align: middle;\n",
       "    }\n",
       "\n",
       "    .dataframe tbody tr th {\n",
       "        vertical-align: top;\n",
       "    }\n",
       "\n",
       "    .dataframe thead th {\n",
       "        text-align: right;\n",
       "    }\n",
       "</style>\n",
       "<table border=\"1\" class=\"dataframe\">\n",
       "  <thead>\n",
       "    <tr style=\"text-align: right;\">\n",
       "      <th></th>\n",
       "      <th>mean</th>\n",
       "      <th>err</th>\n",
       "    </tr>\n",
       "    <tr>\n",
       "      <th>name</th>\n",
       "      <th></th>\n",
       "      <th></th>\n",
       "    </tr>\n",
       "  </thead>\n",
       "  <tbody>\n",
       "    <tr>\n",
       "      <th>amplitude</th>\n",
       "      <td>3.880091e-11</td>\n",
       "      <td>3.536017e-12</td>\n",
       "    </tr>\n",
       "    <tr>\n",
       "      <th>alpha</th>\n",
       "      <td>2.510771e+00</td>\n",
       "      <td>3.763238e-02</td>\n",
       "    </tr>\n",
       "    <tr>\n",
       "      <th>beta</th>\n",
       "      <td>2.423330e-01</td>\n",
       "      <td>2.759517e-02</td>\n",
       "    </tr>\n",
       "    <tr>\n",
       "      <th>z_fermi</th>\n",
       "      <td>4.365007e-03</td>\n",
       "      <td>4.511147e-02</td>\n",
       "    </tr>\n",
       "    <tr>\n",
       "      <th>z_magic</th>\n",
       "      <td>-2.684315e-03</td>\n",
       "      <td>6.089172e-02</td>\n",
       "    </tr>\n",
       "    <tr>\n",
       "      <th>z_veritas</th>\n",
       "      <td>-5.560264e-02</td>\n",
       "      <td>6.427045e-02</td>\n",
       "    </tr>\n",
       "    <tr>\n",
       "      <th>z_fact</th>\n",
       "      <td>-1.029063e-01</td>\n",
       "      <td>6.579716e-02</td>\n",
       "    </tr>\n",
       "    <tr>\n",
       "      <th>z_hess</th>\n",
       "      <td>9.929812e-02</td>\n",
       "      <td>7.293912e-02</td>\n",
       "    </tr>\n",
       "  </tbody>\n",
       "</table>\n",
       "</div>"
      ],
      "text/plain": [
       "                   mean           err\n",
       "name                                 \n",
       "amplitude  3.880091e-11  3.536017e-12\n",
       "alpha      2.510771e+00  3.763238e-02\n",
       "beta       2.423330e-01  2.759517e-02\n",
       "z_fermi    4.365007e-03  4.511147e-02\n",
       "z_magic   -2.684315e-03  6.089172e-02\n",
       "z_veritas -5.560264e-02  6.427045e-02\n",
       "z_fact    -1.029063e-01  6.579716e-02\n",
       "z_hess     9.929812e-02  7.293912e-02"
      ]
     },
     "execution_count": 7,
     "metadata": {},
     "output_type": "execute_result"
    }
   ],
   "source": [
    "multi_norm.parameters"
   ]
  },
  {
   "cell_type": "code",
   "execution_count": 8,
   "metadata": {},
   "outputs": [
    {
     "data": {
      "text/html": [
       "<div>\n",
       "<style scoped>\n",
       "    .dataframe tbody tr th:only-of-type {\n",
       "        vertical-align: middle;\n",
       "    }\n",
       "\n",
       "    .dataframe tbody tr th {\n",
       "        vertical-align: top;\n",
       "    }\n",
       "\n",
       "    .dataframe thead th {\n",
       "        text-align: right;\n",
       "    }\n",
       "</style>\n",
       "<table border=\"1\" class=\"dataframe\">\n",
       "  <thead>\n",
       "    <tr style=\"text-align: right;\">\n",
       "      <th>name</th>\n",
       "      <th>amplitude</th>\n",
       "      <th>alpha</th>\n",
       "      <th>beta</th>\n",
       "      <th>z_fermi</th>\n",
       "      <th>z_magic</th>\n",
       "      <th>z_veritas</th>\n",
       "      <th>z_fact</th>\n",
       "      <th>z_hess</th>\n",
       "    </tr>\n",
       "    <tr>\n",
       "      <th>name</th>\n",
       "      <th></th>\n",
       "      <th></th>\n",
       "      <th></th>\n",
       "      <th></th>\n",
       "      <th></th>\n",
       "      <th></th>\n",
       "      <th></th>\n",
       "      <th></th>\n",
       "    </tr>\n",
       "  </thead>\n",
       "  <tbody>\n",
       "    <tr>\n",
       "      <th>amplitude</th>\n",
       "      <td>1.000000</td>\n",
       "      <td>-0.489970</td>\n",
       "      <td>0.192608</td>\n",
       "      <td>-0.400052</td>\n",
       "      <td>-0.814372</td>\n",
       "      <td>-0.759988</td>\n",
       "      <td>-0.794817</td>\n",
       "      <td>-0.867305</td>\n",
       "    </tr>\n",
       "    <tr>\n",
       "      <th>alpha</th>\n",
       "      <td>-0.489970</td>\n",
       "      <td>1.000000</td>\n",
       "      <td>0.626201</td>\n",
       "      <td>0.025503</td>\n",
       "      <td>0.252517</td>\n",
       "      <td>0.285266</td>\n",
       "      <td>0.620496</td>\n",
       "      <td>0.589589</td>\n",
       "    </tr>\n",
       "    <tr>\n",
       "      <th>beta</th>\n",
       "      <td>0.192608</td>\n",
       "      <td>0.626201</td>\n",
       "      <td>1.000000</td>\n",
       "      <td>0.042951</td>\n",
       "      <td>-0.214565</td>\n",
       "      <td>-0.190374</td>\n",
       "      <td>0.093339</td>\n",
       "      <td>0.010345</td>\n",
       "    </tr>\n",
       "    <tr>\n",
       "      <th>z_fermi</th>\n",
       "      <td>-0.400052</td>\n",
       "      <td>0.025503</td>\n",
       "      <td>0.042951</td>\n",
       "      <td>1.000000</td>\n",
       "      <td>0.440457</td>\n",
       "      <td>0.362461</td>\n",
       "      <td>0.293658</td>\n",
       "      <td>0.331468</td>\n",
       "    </tr>\n",
       "    <tr>\n",
       "      <th>z_magic</th>\n",
       "      <td>-0.814372</td>\n",
       "      <td>0.252517</td>\n",
       "      <td>-0.214565</td>\n",
       "      <td>0.440457</td>\n",
       "      <td>1.000000</td>\n",
       "      <td>0.646915</td>\n",
       "      <td>0.610670</td>\n",
       "      <td>0.680751</td>\n",
       "    </tr>\n",
       "    <tr>\n",
       "      <th>z_veritas</th>\n",
       "      <td>-0.759988</td>\n",
       "      <td>0.285266</td>\n",
       "      <td>-0.190374</td>\n",
       "      <td>0.362461</td>\n",
       "      <td>0.646915</td>\n",
       "      <td>1.000000</td>\n",
       "      <td>0.581340</td>\n",
       "      <td>0.643209</td>\n",
       "    </tr>\n",
       "    <tr>\n",
       "      <th>z_fact</th>\n",
       "      <td>-0.794817</td>\n",
       "      <td>0.620496</td>\n",
       "      <td>0.093339</td>\n",
       "      <td>0.293658</td>\n",
       "      <td>0.610670</td>\n",
       "      <td>0.581340</td>\n",
       "      <td>1.000000</td>\n",
       "      <td>0.741487</td>\n",
       "    </tr>\n",
       "    <tr>\n",
       "      <th>z_hess</th>\n",
       "      <td>-0.867305</td>\n",
       "      <td>0.589589</td>\n",
       "      <td>0.010345</td>\n",
       "      <td>0.331468</td>\n",
       "      <td>0.680751</td>\n",
       "      <td>0.643209</td>\n",
       "      <td>0.741487</td>\n",
       "      <td>1.000000</td>\n",
       "    </tr>\n",
       "  </tbody>\n",
       "</table>\n",
       "</div>"
      ],
      "text/plain": [
       "name       amplitude     alpha      beta   z_fermi   z_magic  z_veritas  \\\n",
       "name                                                                      \n",
       "amplitude   1.000000 -0.489970  0.192608 -0.400052 -0.814372  -0.759988   \n",
       "alpha      -0.489970  1.000000  0.626201  0.025503  0.252517   0.285266   \n",
       "beta        0.192608  0.626201  1.000000  0.042951 -0.214565  -0.190374   \n",
       "z_fermi    -0.400052  0.025503  0.042951  1.000000  0.440457   0.362461   \n",
       "z_magic    -0.814372  0.252517 -0.214565  0.440457  1.000000   0.646915   \n",
       "z_veritas  -0.759988  0.285266 -0.190374  0.362461  0.646915   1.000000   \n",
       "z_fact     -0.794817  0.620496  0.093339  0.293658  0.610670   0.581340   \n",
       "z_hess     -0.867305  0.589589  0.010345  0.331468  0.680751   0.643209   \n",
       "\n",
       "name         z_fact    z_hess  \n",
       "name                           \n",
       "amplitude -0.794817 -0.867305  \n",
       "alpha      0.620496  0.589589  \n",
       "beta       0.093339  0.010345  \n",
       "z_fermi    0.293658  0.331468  \n",
       "z_magic    0.610670  0.680751  \n",
       "z_veritas  0.581340  0.643209  \n",
       "z_fact     1.000000  0.741487  \n",
       "z_hess     0.741487  1.000000  "
      ]
     },
     "execution_count": 8,
     "metadata": {},
     "output_type": "execute_result"
    }
   ],
   "source": [
    "multi_norm.correlation"
   ]
  },
  {
   "cell_type": "markdown",
   "metadata": {},
   "source": [
    "## Plot\n",
    "\n",
    "The spectral results with the modified likelihood are given in Figure 4 of the paper.\n",
    "\n",
    "Here we plot the results for the energy-scale factors."
   ]
  },
  {
   "cell_type": "code",
   "execution_count": 9,
   "metadata": {},
   "outputs": [
    {
     "data": {
      "text/plain": [
       "0.004365007495221839"
      ]
     },
     "execution_count": 9,
     "metadata": {},
     "output_type": "execute_result"
    }
   ],
   "source": [
    "multi_norm.mean[\"z_fermi\"]"
   ]
  },
  {
   "cell_type": "code",
   "execution_count": 10,
   "metadata": {},
   "outputs": [
    {
     "data": {
      "image/png": "[encoded data removed]",
      "text/plain": [
       "<matplotlib.figure.Figure at 0x1176f96d8>"
      ]
     },
     "metadata": {
      "needs_background": "light"
     },
     "output_type": "display_data"
    }
   ],
   "source": [
    "fig, ax = plt.subplots(figsize=(8, 6))\n",
    "\n",
    "names = [\"fermi\", \"magic\", \"veritas\", \"fact\", \"hess\"]\n",
    "\n",
    "for y, name in enumerate(names):\n",
    "    x = multi_norm.mean[f\"z_{name}\"]\n",
    "    ax.plot(x, y, ls=\"-\", marker=\"o\", ms=10, color=\"k\")\n",
    "\n",
    "ax.set_ylim([-1, 5])\n",
    "ax.set_yticks(list(range(5)))\n",
    "ax.set_yticklabels(names)\n",
    "ax.grid()\n",
    "ax.axvline(0.15, color=\"k\", lw=3, ls=\"--\")\n",
    "ax.axvline(-0.15, color=\"k\", lw=3, ls=\"--\");"
   ]
  }
 ],
 "metadata": {
  "kernelspec": {
   "display_name": "Python 3",
   "language": "python",
   "name": "python3"
  },
  "language_info": {
   "codemirror_mode": {
    "name": "ipython",
    "version": 3
   },
   "file_extension": ".py",
   "mimetype": "text/x-python",
   "name": "python",
   "nbconvert_exporter": "python",
   "pygments_lexer": "ipython3",
   "version": "3.6.0"
  }
 },
 "nbformat": 4,
 "nbformat_minor": 2
}
