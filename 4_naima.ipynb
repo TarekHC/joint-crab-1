{
 "cells": [
  {
   "cell_type": "markdown",
   "metadata": {},
   "source": [
    "# Naima SED fit\n",
    "\n",
    "This notebook shows how to fit a physical SED model to the gamma-ray data,\n",
    "to show the flexibility and extensibility made possible by open data and open source science tools.\n",
    "\n",
    "We define a custom Gammapy spectral model class, that wraps an existing astrophysical modeling\n",
    "code to compute non-thermal radiation spectra from relativistic particle populations.\n",
    "\n",
    "The package we use is `Naima` (see [documentation](https://naima.readthedocs.io/) and [Zabalza (2015)](http://adsabs.harvard.edu/abs/2015ICRC...34..922Z)) and the model we use is an electron spectrum power-law with an exponential cutoff, creating gamma-rays via inverse Compton emission off the cosmic microwave background (CMB).\n",
    "\n",
    "Note that we don't aim to create a good physical emission model of the Crab nebula here,\n",
    "and we will not discuss the analysis parameters that we find. The goal is only to give\n",
    "an example, to make the point that open data and science tools allow anyone to extend\n",
    "the analysis of a given publication, and to fit their model of choice to the data.\n",
    "The analysis is as simple as writing a Python script, because both codes involved (Gammapy and Naima)\n",
    "use Python and Numpy arrays, allowing for efficient model evaluation."
   ]
  },
  {
   "cell_type": "markdown",
   "metadata": {},
   "source": [
    "## Setup\n",
    "\n",
    "As usual, we start by importing the functionality we will use."
   ]
  },
  {
   "cell_type": "code",
   "execution_count": 1,
   "metadata": {},
   "outputs": [],
   "source": [
    "%matplotlib inline\n",
    "import matplotlib.pyplot as plt\n",
    "\n",
    "import astropy.units as u\n",
    "from gammapy.utils.fitting import Parameter, Parameters\n",
    "from gammapy.spectrum.models import SpectralModel\n",
    "from gammapy.spectrum import CrabSpectrum, SpectrumFit\n",
    "import naima.models\n",
    "from joint_crab.conf import config\n",
    "from joint_crab.utils import load_yaml"
   ]
  },
  {
   "cell_type": "markdown",
   "metadata": {},
   "source": [
    "## Model definition\n",
    "\n",
    "- Following the Gammapy tutorial to create a user-defined spectral model [here](https://docs.gammapy.org/0.8/notebooks/spectrum_models.html#User-defined-model),\n",
    "we write a class `CrabSpectralModel` as a sub-class of the `gammapy.spectrum.models.SpectralModel` base class.\n",
    "- In `__init__` we define the parameters of the model, and in `evaluate` the spectral model differential flux `dN/dE` in `cm-2 s-1 TeV-1` for a given energy and choice of model parameters.\n",
    "- The model we define consists of an exponential cutoff electron spectrum, creating a photon spectrum via inverse Compton scattering on the cosmic microwave background (CMB). The `amplitude` parameter is the electron spectrum `dN/dE` in units of `eV-1` at a given reference electron energy, for the total source, and a distance of 1 kpc is assumed.\n",
    "\n",
    "We use the following classes:\n",
    "\n",
    "- [gammapy.utils.fitting.Parameter](https://docs.gammapy.org/0.8/api/gammapy.utils.fitting.Parameter.html)\n",
    "- [gammapy.utils.fitting.Parameters](https://docs.gammapy.org/0.8/api/gammapy.utils.fitting.Parameters.html)\n",
    "- [gammapy.spectrum.models.SpectralModel](https://docs.gammapy.org/0.8/api/gammapy.spectrum.models.SpectralModel.html)\n",
    "- [gammapy.spectrum.SpectrumFit](https://docs.gammapy.org/0.8/api/gammapy.spectrum.SpectrumFit.html)\n",
    "- [naima.models.ExponentialCutoffPowerLaw](https://naima.readthedocs.io/en/stable/api-models.html#naima.models.ExponentialCutoffPowerLaw)\n",
    "- [naima.models.InverseCompton](https://naima.readthedocs.io/en/stable/api-models.html#naima.models.InverseCompton)"
   ]
  },
  {
   "cell_type": "code",
   "execution_count": 2,
   "metadata": {},
   "outputs": [],
   "source": [
    "class CrabSpectrumModel(SpectralModel):\n",
    "    def __init__(self, amplitude, e_0, alpha, e_cutoff):\n",
    "        self.parameters = Parameters(\n",
    "            [\n",
    "                Parameter(\"amplitude\", amplitude),\n",
    "                Parameter(\"e_0\", e_0, frozen=True),\n",
    "                Parameter(\"alpha\", alpha),\n",
    "                Parameter(\"e_cutoff\", e_cutoff),\n",
    "            ]\n",
    "        )\n",
    "\n",
    "    @staticmethod\n",
    "    def evaluate(energy, amplitude, e_0, alpha, e_cutoff):\n",
    "        particle_distribution = naima.models.ExponentialCutoffPowerLaw(\n",
    "            amplitude, e_0, alpha, e_cutoff\n",
    "        )\n",
    "        ic = naima.models.InverseCompton(\n",
    "            particle_distribution,\n",
    "            seed_photon_fields=[\"CMB\"],\n",
    "            Eemin=100 * u.GeV,\n",
    "        )\n",
    "\n",
    "        dnde = ic.flux(energy, distance=1.0 * u.kpc)\n",
    "        return dnde.to(\"cm-2 s-1 TeV-1\")"
   ]
  },
  {
   "cell_type": "markdown",
   "metadata": {},
   "source": [
    "## Model check\n",
    "\n",
    "Before fitting the `CrabSpectrumModel` to the data, let us check the the IC gamma-ray spectrum\n",
    "for a few different electron spectrum model parameters. This can be used to gain some insights how the electron and gamma-ray spectra relate, or to find reasonable start parameters for the model fit in the next section."
   ]
  },
  {
   "cell_type": "code",
   "execution_count": 3,
   "metadata": {},
   "outputs": [
    {
     "data": {
      "image/png": "[encoded data removed]",
      "text/plain": [
       "<Figure size 576x432 with 1 Axes>"
      ]
     },
     "metadata": {
      "needs_background": "light"
     },
     "output_type": "display_data"
    }
   ],
   "source": [
    "fig, ax = plt.subplots(figsize=(8, 6))\n",
    "\n",
    "opts = {\n",
    "    \"energy_range\": [10 * u.GeV, 80 * u.TeV],\n",
    "    \"energy_power\": 2,\n",
    "    \"flux_unit\": \"erg-1 cm-2 s-1\",\n",
    "}\n",
    "\n",
    "# Show Meyer et al. (2010) Crab spectrum as reference\n",
    "model_meyer = CrabSpectrum(\"meyer\").model\n",
    "model_meyer.plot(label=\"Meyer (2010)\", color=\"gray\", **opts)\n",
    "\n",
    "model_a = CrabSpectrumModel(\n",
    "    amplitude=\"1e33 eV-1\", e_0=\"10 TeV\", alpha=2, e_cutoff=\"100 TeV\"\n",
    ")\n",
    "model_a.plot(label=\"Model A\", **opts)\n",
    "\n",
    "model_b = CrabSpectrumModel(\n",
    "    amplitude=\"2e33 eV-1\", e_0=\"10 TeV\", alpha=2.5, e_cutoff=\"10 TeV\"\n",
    ")\n",
    "model_b.plot(label=\"Model B\", **opts)\n",
    "\n",
    "ax.set_ylim([3e-13, 5e-10])\n",
    "plt.legend();"
   ]
  },
  {
   "cell_type": "markdown",
   "metadata": {},
   "source": [
    "## Load data\n",
    "\n",
    "We load the data from this paper using a helper function. The data consists of some Crab nebula observations from Fermi-LAT above 30 GeV, as well as data from MAGIC, VERITAS, FACT and HESS."
   ]
  },
  {
   "cell_type": "code",
   "execution_count": 4,
   "metadata": {
    "scrolled": true
   },
   "outputs": [
    {
     "name": "stdout",
     "output_type": "stream",
     "text": [
      "Number of SpectrumObservation: 10\n"
     ]
    }
   ],
   "source": [
    "# Load the reduced spectral data as a `SpectrumObservationList`\n",
    "# Options: 'joint', 'fermi','hess','magic','veritas', 'fact'\n",
    "dataset = config.datasets[\"joint\"]\n",
    "obs_list = dataset.get_SpectrumObservationList()\n",
    "print(f\"Number of SpectrumObservation: {len(obs_list)}\")"
   ]
  },
  {
   "cell_type": "markdown",
   "metadata": {},
   "source": [
    "## Model fit\n",
    "\n",
    "Let's fit the model to the data. With this spectral model, the fit parameters are highly correlated. The reference energy `e_0 = \"3 TeV\"` was chosen to have reasonably small correlations. Already at 1 and 10 TeV the correlations are large."
   ]
  },
  {
   "cell_type": "code",
   "execution_count": 5,
   "metadata": {
    "scrolled": false
   },
   "outputs": [
    {
     "name": "stdout",
     "output_type": "stream",
     "text": [
      "CPU times: user 1min 20s, sys: 265 ms, total: 1min 21s\n",
      "Wall time: 27.1 s\n"
     ]
    }
   ],
   "source": [
    "%%time\n",
    "model = CrabSpectrumModel(\n",
    "    amplitude=\"1e34 eV-1\", e_0=\"3 TeV\", alpha=2.7, e_cutoff=\"10 TeV\"\n",
    ")\n",
    "fit = SpectrumFit(\n",
    "    obs_list=obs_list, model=model, fit_range=dataset.energy_range\n",
    ")\n",
    "results = fit.run(optimize_opts={\"print_level\": 0})"
   ]
  },
  {
   "cell_type": "markdown",
   "metadata": {},
   "source": [
    "## Fit results\n",
    "\n",
    "Now let us look at the fit results."
   ]
  },
  {
   "cell_type": "code",
   "execution_count": 6,
   "metadata": {},
   "outputs": [
    {
     "name": "stdout",
     "output_type": "stream",
     "text": [
      "FitResult\n",
      "\n",
      "\tbackend    : minuit\n",
      "\tmethod     : minuit\n",
      "\tsuccess    : True\n",
      "\tnfev       : 187\n",
      "\ttotal stat : 460.27\n",
      "\tmessage    : Optimization terminated successfully.\n",
      "\n"
     ]
    }
   ],
   "source": [
    "print(results)"
   ]
  },
  {
   "cell_type": "code",
   "execution_count": 7,
   "metadata": {},
   "outputs": [
    {
     "name": "stdout",
     "output_type": "stream",
     "text": [
      "CrabSpectrumModel\n",
      "\n",
      "Parameters: \n",
      "\n",
      "\t   name     value     error   unit min max frozen\n",
      "\t--------- --------- --------- ---- --- --- ------\n",
      "\tamplitude 3.026e+34 1.228e+33 eV-1 nan nan  False\n",
      "\t      e_0 3.000e+00 0.000e+00  TeV nan nan   True\n",
      "\t    alpha 2.859e+00 9.627e-02      nan nan  False\n",
      "\t e_cutoff 1.757e+01 2.869e+00  TeV nan nan  False\n",
      "\n",
      "Covariance: \n",
      "\n",
      "\t   name   amplitude     e_0      alpha    e_cutoff \n",
      "\t--------- ---------- --------- --------- ----------\n",
      "\tamplitude  1.508e+66 0.000e+00 2.111e+30 -9.380e+32\n",
      "\t      e_0  0.000e+00 0.000e+00 0.000e+00  0.000e+00\n",
      "\t    alpha  2.111e+30 0.000e+00 9.269e-03  2.599e-01\n",
      "\t e_cutoff -9.380e+32 0.000e+00 2.599e-01  8.228e+00\n"
     ]
    }
   ],
   "source": [
    "print(results.model)"
   ]
  },
  {
   "cell_type": "code",
   "execution_count": 8,
   "metadata": {},
   "outputs": [
    {
     "data": {
      "text/html": [
       "<i>Table length=4</i>\n",
       "<table id=\"table120822859704\" class=\"table-striped table-bordered table-condensed\">\n",
       "<thead><tr><th>name</th><th>value</th><th>error</th><th>unit</th><th>min</th><th>max</th><th>frozen</th></tr></thead>\n",
       "<thead><tr><th>str9</th><th>float64</th><th>float64</th><th>str4</th><th>float64</th><th>float64</th><th>bool</th></tr></thead>\n",
       "<tr><td>amplitude</td><td>3.026e+34</td><td>1.228e+33</td><td>eV-1</td><td>nan</td><td>nan</td><td>False</td></tr>\n",
       "<tr><td>e_0</td><td>3.000e+00</td><td>0.000e+00</td><td>TeV</td><td>nan</td><td>nan</td><td>True</td></tr>\n",
       "<tr><td>alpha</td><td>2.859e+00</td><td>9.627e-02</td><td></td><td>nan</td><td>nan</td><td>False</td></tr>\n",
       "<tr><td>e_cutoff</td><td>1.757e+01</td><td>2.869e+00</td><td>TeV</td><td>nan</td><td>nan</td><td>False</td></tr>\n",
       "</table>"
      ],
      "text/plain": [
       "<Table length=4>\n",
       "   name     value     error   unit   min     max   frozen\n",
       "   str9    float64   float64  str4 float64 float64  bool \n",
       "--------- --------- --------- ---- ------- ------- ------\n",
       "amplitude 3.026e+34 1.228e+33 eV-1     nan     nan  False\n",
       "      e_0 3.000e+00 0.000e+00  TeV     nan     nan   True\n",
       "    alpha 2.859e+00 9.627e-02          nan     nan  False\n",
       " e_cutoff 1.757e+01 2.869e+00  TeV     nan     nan  False"
      ]
     },
     "execution_count": 8,
     "metadata": {},
     "output_type": "execute_result"
    }
   ],
   "source": [
    "# You can get the fit results as a table\n",
    "# that you can write to a file\n",
    "results.model.parameters.to_table()"
   ]
  },
  {
   "cell_type": "markdown",
   "metadata": {},
   "source": [
    "## Model SED\n",
    "\n",
    "Let's compare the fitted model SED with the Meyer et al. (2010) reference Crab spectrum.\n",
    "\n",
    "We find that the shape and amplitude is similar in the range covered by the data in this analysis (30 GeV to 20 TeV)."
   ]
  },
  {
   "cell_type": "code",
   "execution_count": 9,
   "metadata": {},
   "outputs": [
    {
     "data": {
      "image/png": "[encoded data removed]",
      "text/plain": [
       "<Figure size 576x432 with 1 Axes>"
      ]
     },
     "metadata": {
      "needs_background": "light"
     },
     "output_type": "display_data"
    }
   ],
   "source": [
    "fig, ax = plt.subplots(figsize=(8, 6))\n",
    "\n",
    "opts = {\n",
    "    \"energy_range\": [10 * u.GeV, 80 * u.TeV],\n",
    "    \"energy_power\": 2,\n",
    "    \"flux_unit\": \"erg-1 cm-2 s-1\",\n",
    "}\n",
    "\n",
    "# Show Meyer et al. (2010) Crab spectrum as reference\n",
    "model_meyer = CrabSpectrum(\"meyer\").model\n",
    "model_meyer.plot(label=\"Meyer (2010)\", color=\"gray\", **opts)\n",
    "\n",
    "results.model.plot(label=\"Naima\", **opts)\n",
    "\n",
    "ax.set_ylim([3e-13, 5e-10])\n",
    "plt.legend();"
   ]
  },
  {
   "cell_type": "markdown",
   "metadata": {},
   "source": [
    "## Conclusions\n",
    "\n",
    "In this notebook, we have have defined a physical SED model using Naima and fit it to the gamma-ray data using Gammapy. To allow the use of Naima with Gammapy, we had to write a spectral model class which wraps the Naima spectral model classes. This is something that we hope to improve in the future, to integrate the two packages better."
   ]
  }
 ],
 "metadata": {
  "kernelspec": {
   "display_name": "Python 3",
   "language": "python",
   "name": "python3"
  },
  "language_info": {
   "codemirror_mode": {
    "name": "ipython",
    "version": 3
   },
   "file_extension": ".py",
   "mimetype": "text/x-python",
   "name": "python",
   "nbconvert_exporter": "python",
   "pygments_lexer": "ipython3",
   "version": "3.6.0"
  }
 },
 "nbformat": 4,
 "nbformat_minor": 2
}
