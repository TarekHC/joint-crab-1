{
 "cells": [
  {
   "cell_type": "markdown",
   "metadata": {},
   "source": [
    "# Results\n",
    "\n",
    "This notebook shows how to work with the results from the joint Crab paper.\n",
    "\n",
    "As explained in the [README.md](README.md), the main analysis and the figures for this paper were produced by Python scripts (`make.py` and `joint_crab` package). However, all results are stored in standard machine-readable formats (YAML for structured data, ECSV or FITS for tables) that are easy to read from Python.\n",
    "\n",
    "In this notebook we will have a detailed look at the files in `results/fit`, and show how to compute a spectral results summary table (similar to Table 2 in the paper) as well as an illustration of the parameter contraints and errors from the fig (similar to Figure 4 in the paper)."
   ]
  },
  {
   "cell_type": "code",
   "execution_count": 2,
   "metadata": {},
   "outputs": [],
   "source": [
    "%matplotlib inline\n",
    "import matplotlib.pyplot as plt"
   ]
  },
  {
   "cell_type": "code",
   "execution_count": 27,
   "metadata": {},
   "outputs": [],
   "source": [
    "import yaml\n",
    "import numpy as np\n",
    "import pandas as pd\n",
    "from multinorm import MultiNorm\n",
    "from astropy.table import Table"
   ]
  },
  {
   "cell_type": "markdown",
   "metadata": {},
   "source": [
    "## Read YAML fit results\n",
    "\n",
    "The fit results are given in the files `results/fit/fit_{name}.yaml`, where `name = {\"fermi\", \"magic\", \"veritas\", \"fact\", \"hess\", \"joint\"}`. As an example, you can look at [results/fit/fit_fermi.yaml](results/fit/fit_fermi.yaml) to see the structure. For each fit parameter, there's the name, value and error, and there's also the covariance matrix."
   ]
  },
  {
   "cell_type": "code",
   "execution_count": 12,
   "metadata": {},
   "outputs": [
    {
     "data": {
      "text/plain": [
       "{'parameters': [{'name': 'amplitude',\n",
       "   'value': 3.8491280655591303e-11,\n",
       "   'factor': 3.8491280655591305,\n",
       "   'scale': '1e-11',\n",
       "   'unit': 'cm-2 s-1 TeV-1',\n",
       "   'min': nan,\n",
       "   'max': nan,\n",
       "   'frozen': False,\n",
       "   'error': 1.143517011477271e-12},\n",
       "  {'name': 'reference',\n",
       "   'value': 1.0,\n",
       "   'factor': 1.0,\n",
       "   'scale': 1.0,\n",
       "   'unit': 'TeV',\n",
       "   'min': nan,\n",
       "   'max': nan,\n",
       "   'frozen': True,\n",
       "   'error': 0.0},\n",
       "  {'name': 'alpha',\n",
       "   'value': 2.505373527966412,\n",
       "   'factor': 2.505373527966412,\n",
       "   'scale': 1.0,\n",
       "   'unit': '',\n",
       "   'min': nan,\n",
       "   'max': nan,\n",
       "   'frozen': False,\n",
       "   'error': 0.025495081633449074},\n",
       "  {'name': 'beta',\n",
       "   'value': 0.23621061222240725,\n",
       "   'factor': 2.3621061222240725,\n",
       "   'scale': 0.1,\n",
       "   'unit': '',\n",
       "   'min': nan,\n",
       "   'max': nan,\n",
       "   'frozen': False,\n",
       "   'error': 0.024508862873678088}],\n",
       " 'covariance': [[1.3076311555379092e-24,\n",
       "   0.0,\n",
       "   1.2371786961404113e-16,\n",
       "   1.160384141181053e-14],\n",
       "  [0.0, 0.0, 0.0, 0.0],\n",
       "  [1.2371786961404113e-16, 0.0, 0.0006499991874962324, 0.0004921428352826801],\n",
       "  [1.160384141181053e-14, 0.0, 0.0004921428352826801, 0.0006006843593607561]],\n",
       " 'statname': 'wstat',\n",
       " 'statval': 54.06961745399447,\n",
       " 'fit_range': {'min': 79432823.47242814,\n",
       "  'max': 28183829312.64455,\n",
       "  'unit': 'keV'}}"
      ]
     },
     "execution_count": 12,
     "metadata": {},
     "output_type": "execute_result"
    }
   ],
   "source": [
    "info = yaml.load(open('results/fit/fit_joint.yaml'))\n",
    "info"
   ]
  },
  {
   "cell_type": "markdown",
   "metadata": {},
   "source": [
    "Usually you'll have to write a few lines of code to get the data in the form you want.\n",
    "\n",
    "For example, here's how to put the parameter information into a `pandas.DataFrame`:"
   ]
  },
  {
   "cell_type": "code",
   "execution_count": 23,
   "metadata": {},
   "outputs": [
    {
     "data": {
      "text/html": [
       "<div>\n",
       "<style scoped>\n",
       "    .dataframe tbody tr th:only-of-type {\n",
       "        vertical-align: middle;\n",
       "    }\n",
       "\n",
       "    .dataframe tbody tr th {\n",
       "        vertical-align: top;\n",
       "    }\n",
       "\n",
       "    .dataframe thead th {\n",
       "        text-align: right;\n",
       "    }\n",
       "</style>\n",
       "<table border=\"1\" class=\"dataframe\">\n",
       "  <thead>\n",
       "    <tr style=\"text-align: right;\">\n",
       "      <th></th>\n",
       "      <th>name</th>\n",
       "      <th>value</th>\n",
       "      <th>error</th>\n",
       "    </tr>\n",
       "  </thead>\n",
       "  <tbody>\n",
       "    <tr>\n",
       "      <th>0</th>\n",
       "      <td>amplitude</td>\n",
       "      <td>3.849128e-11</td>\n",
       "      <td>1.143517e-12</td>\n",
       "    </tr>\n",
       "    <tr>\n",
       "      <th>1</th>\n",
       "      <td>reference</td>\n",
       "      <td>1.000000e+00</td>\n",
       "      <td>0.000000e+00</td>\n",
       "    </tr>\n",
       "    <tr>\n",
       "      <th>2</th>\n",
       "      <td>alpha</td>\n",
       "      <td>2.505374e+00</td>\n",
       "      <td>2.549508e-02</td>\n",
       "    </tr>\n",
       "    <tr>\n",
       "      <th>3</th>\n",
       "      <td>beta</td>\n",
       "      <td>2.362106e-01</td>\n",
       "      <td>2.450886e-02</td>\n",
       "    </tr>\n",
       "  </tbody>\n",
       "</table>\n",
       "</div>"
      ],
      "text/plain": [
       "        name         value         error\n",
       "0  amplitude  3.849128e-11  1.143517e-12\n",
       "1  reference  1.000000e+00  0.000000e+00\n",
       "2      alpha  2.505374e+00  2.549508e-02\n",
       "3       beta  2.362106e-01  2.450886e-02"
      ]
     },
     "execution_count": 23,
     "metadata": {},
     "output_type": "execute_result"
    }
   ],
   "source": [
    "pd.DataFrame([\n",
    "    {'name': _['name'], 'value': _['value'], 'error': _['error']}\n",
    "    for _ in info[\"parameters\"]\n",
    "],\n",
    "    columns=[\"name\", \"value\", \"error\"],\n",
    ")"
   ]
  },
  {
   "cell_type": "markdown",
   "metadata": {},
   "source": [
    "The `yaml.load` call returns Python objects (str, float, list, dict). Often for computations you want a Numpy array. It's easy to make:"
   ]
  },
  {
   "cell_type": "code",
   "execution_count": 28,
   "metadata": {},
   "outputs": [
    {
     "data": {
      "text/plain": [
       "array([[1.30763116e-24, 0.00000000e+00, 1.23717870e-16, 1.16038414e-14],\n",
       "       [0.00000000e+00, 0.00000000e+00, 0.00000000e+00, 0.00000000e+00],\n",
       "       [1.23717870e-16, 0.00000000e+00, 6.49999187e-04, 4.92142835e-04],\n",
       "       [1.16038414e-14, 0.00000000e+00, 4.92142835e-04, 6.00684359e-04]])"
      ]
     },
     "execution_count": 28,
     "metadata": {},
     "output_type": "execute_result"
    }
   ],
   "source": [
    "cov = np.array(info[\"covariance\"])\n",
    "cov"
   ]
  },
  {
   "cell_type": "markdown",
   "metadata": {},
   "source": [
    "## Check parameter correlations\n",
    "\n",
    "If you look at Table 2 or Figure 4 in the paper, you will find that the parameter errors in the joint fit are much smaller than the parameter errors from each individual instrument dataset.\n",
    "\n",
    "Why is that?\n",
    "\n",
    "The reason is that there are strong correlations between the three fit parameters, especially for the Fermi-LAT dataset. The likelihood for each dataset is approximately a three-dimensional multivariate normal, and the joint likelihood is approximately the product of those likelihood, and the parameter correlations lead to a well-constrained joint likelihood.\n",
    "\n",
    "Let's load all fit results and compute the product multivariate normal, and then create a Figure similar to Fig. 4 in the paper. We will use the `MultiNorm` class from the [multinorm](https://multinorm.readthedocs.io/) module to help a bit with the covariance matrix related computations.\n",
    "\n",
    "### Load all results\n",
    "\n",
    "First let's load all fit results, and store each one in a `MultiNorm` object:"
   ]
  },
  {
   "cell_type": "code",
   "execution_count": 35,
   "metadata": {},
   "outputs": [],
   "source": [
    "def read_fit_result(name):\n",
    "    data = yaml.load(open(f\"results/fit/fit_{name}.yaml\"))\n",
    "    mean = [_[\"value\"] for _ in data[\"parameters\"]]\n",
    "    cov = data[\"covariance\"]\n",
    "    # Use parameter names that are consistent with the paper\n",
    "    names = [\"phi\", \"reference\", \"gamma\", \"beta\"]\n",
    "    mn = MultiNorm(mean, cov, names)\n",
    "    mn = mn.drop([\"reference\"])\n",
    "    return mn\n",
    "\n",
    "results = {\n",
    "    name: read_fit_result(name) for name in \n",
    "    (\"fermi\", \"magic\", \"veritas\", \"fact\", \"hess\", \"joint\")   \n",
    "}"
   ]
  },
  {
   "cell_type": "markdown",
   "metadata": {},
   "source": [
    "### Check results\n",
    "\n",
    "We can now do any covariance-matrix related computations, e.g. to compute parameter errors or correlations:"
   ]
  },
  {
   "cell_type": "code",
   "execution_count": 38,
   "metadata": {},
   "outputs": [
    {
     "data": {
      "text/html": [
       "<div>\n",
       "<style scoped>\n",
       "    .dataframe tbody tr th:only-of-type {\n",
       "        vertical-align: middle;\n",
       "    }\n",
       "\n",
       "    .dataframe tbody tr th {\n",
       "        vertical-align: top;\n",
       "    }\n",
       "\n",
       "    .dataframe thead th {\n",
       "        text-align: right;\n",
       "    }\n",
       "</style>\n",
       "<table border=\"1\" class=\"dataframe\">\n",
       "  <thead>\n",
       "    <tr style=\"text-align: right;\">\n",
       "      <th></th>\n",
       "      <th>mean</th>\n",
       "      <th>err</th>\n",
       "    </tr>\n",
       "    <tr>\n",
       "      <th>name</th>\n",
       "      <th></th>\n",
       "      <th></th>\n",
       "    </tr>\n",
       "  </thead>\n",
       "  <tbody>\n",
       "    <tr>\n",
       "      <th>phi</th>\n",
       "      <td>3.849128e-11</td>\n",
       "      <td>1.143517e-12</td>\n",
       "    </tr>\n",
       "    <tr>\n",
       "      <th>gamma</th>\n",
       "      <td>2.505374e+00</td>\n",
       "      <td>2.549508e-02</td>\n",
       "    </tr>\n",
       "    <tr>\n",
       "      <th>beta</th>\n",
       "      <td>2.362106e-01</td>\n",
       "      <td>2.450886e-02</td>\n",
       "    </tr>\n",
       "  </tbody>\n",
       "</table>\n",
       "</div>"
      ],
      "text/plain": [
       "               mean           err\n",
       "name                             \n",
       "phi    3.849128e-11  1.143517e-12\n",
       "gamma  2.505374e+00  2.549508e-02\n",
       "beta   2.362106e-01  2.450886e-02"
      ]
     },
     "execution_count": 38,
     "metadata": {},
     "output_type": "execute_result"
    }
   ],
   "source": [
    "# These are the numbers in the last row in Table 2 in the paper\n",
    "results[\"joint\"].parameters"
   ]
  },
  {
   "cell_type": "code",
   "execution_count": 42,
   "metadata": {},
   "outputs": [
    {
     "data": {
      "text/html": [
       "<div>\n",
       "<style scoped>\n",
       "    .dataframe tbody tr th:only-of-type {\n",
       "        vertical-align: middle;\n",
       "    }\n",
       "\n",
       "    .dataframe tbody tr th {\n",
       "        vertical-align: top;\n",
       "    }\n",
       "\n",
       "    .dataframe thead th {\n",
       "        text-align: right;\n",
       "    }\n",
       "</style>\n",
       "<table border=\"1\" class=\"dataframe\">\n",
       "  <thead>\n",
       "    <tr style=\"text-align: right;\">\n",
       "      <th>name</th>\n",
       "      <th>phi</th>\n",
       "      <th>gamma</th>\n",
       "      <th>beta</th>\n",
       "    </tr>\n",
       "    <tr>\n",
       "      <th>name</th>\n",
       "      <th></th>\n",
       "      <th></th>\n",
       "      <th></th>\n",
       "    </tr>\n",
       "  </thead>\n",
       "  <tbody>\n",
       "    <tr>\n",
       "      <th>phi</th>\n",
       "      <td>1.000000</td>\n",
       "      <td>-0.910732</td>\n",
       "      <td>-0.79760</td>\n",
       "    </tr>\n",
       "    <tr>\n",
       "      <th>gamma</th>\n",
       "      <td>-0.910732</td>\n",
       "      <td>1.000000</td>\n",
       "      <td>0.97245</td>\n",
       "    </tr>\n",
       "    <tr>\n",
       "      <th>beta</th>\n",
       "      <td>-0.797600</td>\n",
       "      <td>0.972450</td>\n",
       "      <td>1.00000</td>\n",
       "    </tr>\n",
       "  </tbody>\n",
       "</table>\n",
       "</div>"
      ],
      "text/plain": [
       "name        phi     gamma     beta\n",
       "name                              \n",
       "phi    1.000000 -0.910732 -0.79760\n",
       "gamma -0.910732  1.000000  0.97245\n",
       "beta  -0.797600  0.972450  1.00000"
      ]
     },
     "execution_count": 42,
     "metadata": {},
     "output_type": "execute_result"
    }
   ],
   "source": [
    "# The parameter correlations for Fermi-LAT are very high\n",
    "results[\"fermi\"].correlation"
   ]
  },
  {
   "cell_type": "code",
   "execution_count": 46,
   "metadata": {},
   "outputs": [
    {
     "data": {
      "text/plain": [
       "-0.9107322553432927"
      ]
     },
     "execution_count": 46,
     "metadata": {},
     "output_type": "execute_result"
    }
   ],
   "source": [
    "results[\"fermi\"].correlation[\"phi\"][\"gamma\"]"
   ]
  },
  {
   "cell_type": "markdown",
   "metadata": {},
   "source": [
    "### Product likelihood\n",
    "\n",
    "Let's compute the product multivariate normal, which is an approximation for the joint fit result."
   ]
  },
  {
   "cell_type": "code",
   "execution_count": 48,
   "metadata": {},
   "outputs": [],
   "source": [
    "def compute_joint_product_result(results):\n",
    "    labels = [\"fermi\", \"magic\", \"veritas\", \"fact\", \"hess\"]\n",
    "    distributions = [results[_] for _ in labels]\n",
    "    mn = MultiNorm.from_product(distributions)\n",
    "    return mn\n",
    "\n",
    "\n",
    "results[\"product\"] = compute_joint_product_result(results)"
   ]
  },
  {
   "cell_type": "code",
   "execution_count": 53,
   "metadata": {},
   "outputs": [
    {
     "data": {
      "text/html": [
       "<div>\n",
       "<style scoped>\n",
       "    .dataframe tbody tr th:only-of-type {\n",
       "        vertical-align: middle;\n",
       "    }\n",
       "\n",
       "    .dataframe tbody tr th {\n",
       "        vertical-align: top;\n",
       "    }\n",
       "\n",
       "    .dataframe thead th {\n",
       "        text-align: right;\n",
       "    }\n",
       "</style>\n",
       "<table border=\"1\" class=\"dataframe\">\n",
       "  <thead>\n",
       "    <tr style=\"text-align: right;\">\n",
       "      <th></th>\n",
       "      <th>mean</th>\n",
       "      <th>err</th>\n",
       "    </tr>\n",
       "    <tr>\n",
       "      <th>name</th>\n",
       "      <th></th>\n",
       "      <th></th>\n",
       "    </tr>\n",
       "  </thead>\n",
       "  <tbody>\n",
       "    <tr>\n",
       "      <th>phi</th>\n",
       "      <td>3.828776e-11</td>\n",
       "      <td>1.188333e-12</td>\n",
       "    </tr>\n",
       "    <tr>\n",
       "      <th>gamma</th>\n",
       "      <td>2.489757e+00</td>\n",
       "      <td>2.765209e-02</td>\n",
       "    </tr>\n",
       "    <tr>\n",
       "      <th>beta</th>\n",
       "      <td>2.203237e-01</td>\n",
       "      <td>2.569859e-02</td>\n",
       "    </tr>\n",
       "  </tbody>\n",
       "</table>\n",
       "</div>"
      ],
      "text/plain": [
       "               mean           err\n",
       "name                             \n",
       "phi    3.828776e-11  1.188333e-12\n",
       "gamma  2.489757e+00  2.765209e-02\n",
       "beta   2.203237e-01  2.569859e-02"
      ]
     },
     "execution_count": 53,
     "metadata": {},
     "output_type": "execute_result"
    }
   ],
   "source": [
    "results[\"product\"].parameters"
   ]
  },
  {
   "cell_type": "code",
   "execution_count": 55,
   "metadata": {},
   "outputs": [
    {
     "data": {
      "text/html": [
       "<div>\n",
       "<style scoped>\n",
       "    .dataframe tbody tr th:only-of-type {\n",
       "        vertical-align: middle;\n",
       "    }\n",
       "\n",
       "    .dataframe tbody tr th {\n",
       "        vertical-align: top;\n",
       "    }\n",
       "\n",
       "    .dataframe thead th {\n",
       "        text-align: right;\n",
       "    }\n",
       "</style>\n",
       "<table border=\"1\" class=\"dataframe\">\n",
       "  <thead>\n",
       "    <tr style=\"text-align: right;\">\n",
       "      <th></th>\n",
       "      <th>mean</th>\n",
       "      <th>err</th>\n",
       "    </tr>\n",
       "    <tr>\n",
       "      <th>name</th>\n",
       "      <th></th>\n",
       "      <th></th>\n",
       "    </tr>\n",
       "  </thead>\n",
       "  <tbody>\n",
       "    <tr>\n",
       "      <th>phi</th>\n",
       "      <td>3.849128e-11</td>\n",
       "      <td>1.143517e-12</td>\n",
       "    </tr>\n",
       "    <tr>\n",
       "      <th>gamma</th>\n",
       "      <td>2.505374e+00</td>\n",
       "      <td>2.549508e-02</td>\n",
       "    </tr>\n",
       "    <tr>\n",
       "      <th>beta</th>\n",
       "      <td>2.362106e-01</td>\n",
       "      <td>2.450886e-02</td>\n",
       "    </tr>\n",
       "  </tbody>\n",
       "</table>\n",
       "</div>"
      ],
      "text/plain": [
       "               mean           err\n",
       "name                             \n",
       "phi    3.849128e-11  1.143517e-12\n",
       "gamma  2.505374e+00  2.549508e-02\n",
       "beta   2.362106e-01  2.450886e-02"
      ]
     },
     "execution_count": 55,
     "metadata": {},
     "output_type": "execute_result"
    }
   ],
   "source": [
    "results[\"joint\"].parameters"
   ]
  },
  {
   "cell_type": "markdown",
   "metadata": {},
   "source": [
    "### Plot\n",
    "\n",
    "Let's plot the 2-dimensional parameter contraints (\"1 sigma error ellipses\") for each pair of parameters."
   ]
  },
  {
   "cell_type": "code",
   "execution_count": 77,
   "metadata": {},
   "outputs": [
    {
     "data": {
      "image/png": "[encoded data removed]",
      "text/plain": [
       "<matplotlib.figure.Figure at 0x11edbe400>"
      ]
     },
     "metadata": {
      "needs_background": "light"
     },
     "output_type": "display_data"
    }
   ],
   "source": [
    "def plot_ellipses_panel(results, names, ax):\n",
    "    colors = [\"#21ABCD\", \"#FF9933\", \"#893F45\", \"#3EB489\", \"#002E63\", \"crimson\", \"black\"]\n",
    "    for name, color in zip(results, colors):\n",
    "        m = results[name].marginal(names)\n",
    "        ellipse = m.to_matplotlib_ellipse(ec=color, fc='none', label=name)\n",
    "        ax.add_patch(ellipse)\n",
    "        ax.plot(m.mean[0], m.mean[1], \".\", color=color)\n",
    "    ax.set_xlabel(names[0])\n",
    "    ax.set_ylabel(names[1])\n",
    "\n",
    "\n",
    "def plot_ellipses(results):\n",
    "    fig, axes = plt.subplots(nrows=1, ncols=3, figsize=(10, 3))\n",
    "    plot_ellipses_panel(results, [\"phi\", \"gamma\"], axes[0])\n",
    "    plot_ellipses_panel(results, [\"phi\", \"beta\"], axes[1])\n",
    "    plot_ellipses_panel(results, [\"gamma\", \"beta\"], axes[2])\n",
    "    fig.legend()\n",
    "    fig.tight_layout()\n",
    "\n",
    "plot_ellipses(results)"
   ]
  },
  {
   "cell_type": "markdown",
   "metadata": {},
   "source": [
    "As mentioned at the start, we can see that the joint fit result is approximately given by the product of the multivariate normal approximation for the fit result of each individual dataset in this analysis."
   ]
  },
  {
   "cell_type": "markdown",
   "metadata": {},
   "source": [
    "## SED\n",
    "\n",
    "TODO: describe"
   ]
  },
  {
   "cell_type": "code",
   "execution_count": 78,
   "metadata": {},
   "outputs": [],
   "source": [
    "samples = Table.read('results/errorbands/samples_veritas.fits.gz')\n",
    "sed = Table.read('results/errorbands/sed_veritas.ecsv')"
   ]
  },
  {
   "cell_type": "code",
   "execution_count": 79,
   "metadata": {},
   "outputs": [
    {
     "name": "stdout",
     "output_type": "stream",
     "text": [
      "<Table length=500>\n",
      "   name    dtype  shape       unit     \n",
      "--------- ------- ----- ---------------\n",
      "amplitude float64                      \n",
      "reference float64                      \n",
      "    alpha float64                      \n",
      "     beta float64                      \n",
      "   energy float64 (81,)             TeV\n",
      "     dnde float64 (81,) 1 / (cm2 s TeV)\n"
     ]
    }
   ],
   "source": [
    "samples.info()"
   ]
  },
  {
   "cell_type": "code",
   "execution_count": 80,
   "metadata": {},
   "outputs": [
    {
     "name": "stdout",
     "output_type": "stream",
     "text": [
      "<Table length=81>\n",
      "     name      dtype        unit      format\n",
      "------------- ------- --------------- ------\n",
      "       energy float64             TeV     3g\n",
      "    dnde_mean float64 1 / (cm2 s TeV)     3g\n",
      "  dnde_median float64 1 / (cm2 s TeV)     3g\n",
      "      dnde_lo float64 1 / (cm2 s TeV)     3g\n",
      "      dnde_hi float64 1 / (cm2 s TeV)     3g\n",
      "     dnde_fit float64 1 / (cm2 s TeV)     3g\n",
      "   e2dnde_fit float64   erg / (cm2 s)     3g\n",
      "  e2dnde_mean float64   erg / (cm2 s)     3g\n",
      "e2dnde_median float64   erg / (cm2 s)     3g\n",
      "    e2dnde_lo float64   erg / (cm2 s)     3g\n",
      "    e2dnde_hi float64   erg / (cm2 s)     3g\n"
     ]
    }
   ],
   "source": [
    "sed.info()"
   ]
  },
  {
   "cell_type": "code",
   "execution_count": null,
   "metadata": {},
   "outputs": [],
   "source": []
  }
 ],
 "metadata": {
  "kernelspec": {
   "display_name": "Python 3",
   "language": "python",
   "name": "python3"
  },
  "language_info": {
   "codemirror_mode": {
    "name": "ipython",
    "version": 3
   },
   "file_extension": ".py",
   "mimetype": "text/x-python",
   "name": "python",
   "nbconvert_exporter": "python",
   "pygments_lexer": "ipython3",
   "version": "3.6.0"
  }
 },
 "nbformat": 4,
 "nbformat_minor": 2
}
