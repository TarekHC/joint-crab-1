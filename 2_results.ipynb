{
 "cells": [
  {
   "cell_type": "markdown",
   "metadata": {},
   "source": [
    "# Results\n",
    "\n",
    "This notebook shows how to work with the results from the joint Crab paper.\n",
    "\n",
    "- `results/fit`\n",
    "- `results/errorbands`\n",
    "\n",
    "TODO: what should we show here? Move counts spectra and maps here?"
   ]
  },
  {
   "cell_type": "code",
   "execution_count": 2,
   "metadata": {},
   "outputs": [],
   "source": [
    "%matplotlib inline\n",
    "import matplotlib.pyplot as plt"
   ]
  },
  {
   "cell_type": "code",
   "execution_count": 3,
   "metadata": {},
   "outputs": [],
   "source": [
    "import yaml\n",
    "from astropy.table import Table"
   ]
  },
  {
   "cell_type": "markdown",
   "metadata": {},
   "source": [
    "## Fit results\n",
    "\n",
    "TODO: describe"
   ]
  },
  {
   "cell_type": "code",
   "execution_count": 14,
   "metadata": {},
   "outputs": [],
   "source": [
    "fit = yaml.load(open('results/fit/fit_joint.yaml'))\n",
    "contours = yaml.load(open('results/fit/contours_joint.yaml'))"
   ]
  },
  {
   "cell_type": "code",
   "execution_count": 16,
   "metadata": {},
   "outputs": [
    {
     "data": {
      "text/plain": [
       "{'parameters': [{'name': 'amplitude',\n",
       "   'value': 3.849128065572495e-11,\n",
       "   'factor': 3.8491280655724953,\n",
       "   'scale': '1e-11',\n",
       "   'unit': 'cm-2 s-1 TeV-1',\n",
       "   'min': nan,\n",
       "   'max': nan,\n",
       "   'frozen': False,\n",
       "   'error': 1.1435169990354172e-12},\n",
       "  {'name': 'reference',\n",
       "   'value': 1.0,\n",
       "   'factor': 1.0,\n",
       "   'scale': 1.0,\n",
       "   'unit': 'TeV',\n",
       "   'min': nan,\n",
       "   'max': nan,\n",
       "   'frozen': True,\n",
       "   'error': 0.0},\n",
       "  {'name': 'alpha',\n",
       "   'value': 2.5053735279650646,\n",
       "   'factor': 2.5053735279650646,\n",
       "   'scale': 1.0,\n",
       "   'unit': '',\n",
       "   'min': nan,\n",
       "   'max': nan,\n",
       "   'frozen': False,\n",
       "   'error': 0.02549508022142852},\n",
       "  {'name': 'beta',\n",
       "   'value': 0.2362106122269071,\n",
       "   'factor': 2.3621061222690707,\n",
       "   'scale': 0.1,\n",
       "   'unit': '',\n",
       "   'min': nan,\n",
       "   'max': nan,\n",
       "   'frozen': False,\n",
       "   'error': 0.024508861879028062}],\n",
       " 'covariance': [[1.3076311270829665e-24,\n",
       "   0.0,\n",
       "   1.2371848963787566e-16,\n",
       "   1.1603841509438729e-14],\n",
       "  [0.0, 0.0, 0.0, 0.0],\n",
       "  [1.2371848963787566e-16, 0.0, 0.0006499991154970758, 0.0004921427795568943],\n",
       "  [1.1603841509438729e-14, 0.0, 0.0004921427795568943, 0.000600684310605275]],\n",
       " 'statname': 'wstat',\n",
       " 'statval': 35.19031636358044,\n",
       " 'fit_range': {'min': 31622776.60168379,\n",
       "  'max': 1995262314.9688807,\n",
       "  'unit': 'keV'}}"
      ]
     },
     "execution_count": 16,
     "metadata": {},
     "output_type": "execute_result"
    }
   ],
   "source": [
    "fit"
   ]
  },
  {
   "cell_type": "code",
   "execution_count": 19,
   "metadata": {},
   "outputs": [
    {
     "data": {
      "text/plain": [
       "['contour_amplitude_alpha', 'contour_amplitude_beta', 'contour_alpha_beta']"
      ]
     },
     "execution_count": 19,
     "metadata": {},
     "output_type": "execute_result"
    }
   ],
   "source": [
    "list(contours.keys())"
   ]
  },
  {
   "cell_type": "markdown",
   "metadata": {},
   "source": [
    "## SED\n",
    "\n",
    "TODO: describe"
   ]
  },
  {
   "cell_type": "code",
   "execution_count": 12,
   "metadata": {},
   "outputs": [],
   "source": [
    "samples = Table.read('results/errorbands/samples_veritas.fits.gz')\n",
    "sed = Table.read('results/errorbands/sed_veritas.ecsv')"
   ]
  },
  {
   "cell_type": "code",
   "execution_count": 13,
   "metadata": {},
   "outputs": [
    {
     "name": "stdout",
     "output_type": "stream",
     "text": [
      "<Table length=500>\n",
      "   name    dtype   shape        unit     \n",
      "--------- ------- ------- ---------------\n",
      "amplitude float64                        \n",
      "reference float64                        \n",
      "    alpha float64                        \n",
      "     beta float64                        \n",
      "   energy float64 (6561,)             TeV\n",
      "     dnde float64   (81,) 1 / (cm2 s TeV)\n"
     ]
    }
   ],
   "source": [
    "samples.info()"
   ]
  },
  {
   "cell_type": "code",
   "execution_count": 11,
   "metadata": {},
   "outputs": [
    {
     "name": "stdout",
     "output_type": "stream",
     "text": [
      "<Table length=81>\n",
      "     name      dtype        unit      format\n",
      "------------- ------- --------------- ------\n",
      "       energy float64             TeV     3g\n",
      "    dnde_mean float64 1 / (cm2 s TeV)     3g\n",
      "  dnde_median float64 1 / (cm2 s TeV)     3g\n",
      "      dnde_lo float64 1 / (cm2 s TeV)     3g\n",
      "      dnde_hi float64 1 / (cm2 s TeV)     3g\n",
      "  e2dnde_mean float64   erg / (cm2 s)     3g\n",
      "e2dnde_median float64   erg / (cm2 s)     3g\n",
      "    e2dnde_lo float64   erg / (cm2 s)     3g\n",
      "    e2dnde_hi float64   erg / (cm2 s)     3g\n"
     ]
    }
   ],
   "source": [
    "sed.info()"
   ]
  },
  {
   "cell_type": "code",
   "execution_count": null,
   "metadata": {},
   "outputs": [],
   "source": []
  }
 ],
 "metadata": {
  "kernelspec": {
   "display_name": "Python 3",
   "language": "python",
   "name": "python3"
  },
  "language_info": {
   "codemirror_mode": {
    "name": "ipython",
    "version": 3
   },
   "file_extension": ".py",
   "mimetype": "text/x-python",
   "name": "python",
   "nbconvert_exporter": "python",
   "pygments_lexer": "ipython3",
   "version": "3.6.0"
  }
 },
 "nbformat": 4,
 "nbformat_minor": 2
}
